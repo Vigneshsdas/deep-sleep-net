{
  "cells": [
    {
      "cell_type": "code",
      "execution_count": null,
      "metadata": {
        "colab": {
          "base_uri": "https://localhost:8080/"
        },
        "id": "tQ40TXffI15G",
        "outputId": "4ddce6e5-fbba-4a99-b1ac-94c37bafbc5b"
      },
      "outputs": [
        {
          "name": "stdout",
          "output_type": "stream",
          "text": [
            "Looking in indexes: https://pypi.org/simple, https://us-python.pkg.dev/colab-wheels/public/simple/\n",
            "Collecting mne\n",
            "  Downloading mne-1.2.2-py3-none-any.whl (7.6 MB)\n",
            "\u001b[K     |████████████████████████████████| 7.6 MB 12.4 MB/s \n",
            "\u001b[?25hRequirement already satisfied: tqdm in /usr/local/lib/python3.7/dist-packages (from mne) (4.64.1)\n",
            "Requirement already satisfied: jinja2 in /usr/local/lib/python3.7/dist-packages (from mne) (2.11.3)\n",
            "Requirement already satisfied: numpy>=1.15.4 in /usr/local/lib/python3.7/dist-packages (from mne) (1.21.6)\n",
            "Requirement already satisfied: pooch>=1.5 in /usr/local/lib/python3.7/dist-packages (from mne) (1.6.0)\n",
            "Requirement already satisfied: packaging in /usr/local/lib/python3.7/dist-packages (from mne) (21.3)\n",
            "Requirement already satisfied: scipy>=1.1.0 in /usr/local/lib/python3.7/dist-packages (from mne) (1.7.3)\n",
            "Requirement already satisfied: decorator in /usr/local/lib/python3.7/dist-packages (from mne) (4.4.2)\n",
            "Requirement already satisfied: matplotlib in /usr/local/lib/python3.7/dist-packages (from mne) (3.2.2)\n",
            "Requirement already satisfied: requests>=2.19.0 in /usr/local/lib/python3.7/dist-packages (from pooch>=1.5->mne) (2.23.0)\n",
            "Requirement already satisfied: appdirs>=1.3.0 in /usr/local/lib/python3.7/dist-packages (from pooch>=1.5->mne) (1.4.4)\n",
            "Requirement already satisfied: pyparsing!=3.0.5,>=2.0.2 in /usr/local/lib/python3.7/dist-packages (from packaging->mne) (3.0.9)\n",
            "Requirement already satisfied: certifi>=2017.4.17 in /usr/local/lib/python3.7/dist-packages (from requests>=2.19.0->pooch>=1.5->mne) (2022.9.24)\n",
            "Requirement already satisfied: chardet<4,>=3.0.2 in /usr/local/lib/python3.7/dist-packages (from requests>=2.19.0->pooch>=1.5->mne) (3.0.4)\n",
            "Requirement already satisfied: idna<3,>=2.5 in /usr/local/lib/python3.7/dist-packages (from requests>=2.19.0->pooch>=1.5->mne) (2.10)\n",
            "Requirement already satisfied: urllib3!=1.25.0,!=1.25.1,<1.26,>=1.21.1 in /usr/local/lib/python3.7/dist-packages (from requests>=2.19.0->pooch>=1.5->mne) (1.24.3)\n",
            "Requirement already satisfied: MarkupSafe>=0.23 in /usr/local/lib/python3.7/dist-packages (from jinja2->mne) (2.0.1)\n",
            "Requirement already satisfied: python-dateutil>=2.1 in /usr/local/lib/python3.7/dist-packages (from matplotlib->mne) (2.8.2)\n",
            "Requirement already satisfied: cycler>=0.10 in /usr/local/lib/python3.7/dist-packages (from matplotlib->mne) (0.11.0)\n",
            "Requirement already satisfied: kiwisolver>=1.0.1 in /usr/local/lib/python3.7/dist-packages (from matplotlib->mne) (1.4.4)\n",
            "Requirement already satisfied: typing-extensions in /usr/local/lib/python3.7/dist-packages (from kiwisolver>=1.0.1->matplotlib->mne) (4.1.1)\n",
            "Requirement already satisfied: six>=1.5 in /usr/local/lib/python3.7/dist-packages (from python-dateutil>=2.1->matplotlib->mne) (1.15.0)\n",
            "Installing collected packages: mne\n",
            "Successfully installed mne-1.2.2\n"
          ]
        }
      ],
      "source": [
        "!pip install mne"
      ]
    },
    {
      "cell_type": "code",
      "execution_count": null,
      "metadata": {
        "colab": {
          "base_uri": "https://localhost:8080/"
        },
        "id": "tA649oMnJB6K",
        "outputId": "095f6b15-6995-450f-935f-2a051ea8dcaa"
      },
      "outputs": [
        {
          "name": "stdout",
          "output_type": "stream",
          "text": [
            "Mounted at /content/drive\n"
          ]
        }
      ],
      "source": [
        "from google.colab import drive\n",
        "drive.mount(\"/content/drive\")"
      ]
    },
    {
      "cell_type": "code",
      "execution_count": null,
      "metadata": {
        "id": "22iVk90sJDFo"
      },
      "outputs": [],
      "source": [
        "import numpy as np\n",
        "import pandas as pd\n",
        "import mne\n",
        "import glob\n",
        "import os"
      ]
    },
    {
      "cell_type": "code",
      "execution_count": null,
      "metadata": {
        "id": "HX0FrV4PJE-M"
      },
      "outputs": [],
      "source": [
        "path_telemetry = \"/content/drive/MyDrive/BU Projects/CS777/EEG_Project/sleep-edf-database-expanded-1.0.0/sleep-telemetry/\""
      ]
    },
    {
      "cell_type": "code",
      "execution_count": null,
      "metadata": {
        "id": "uPTbjFjeJGEz"
      },
      "outputs": [],
      "source": [
        "def make_stage_map(stages):\n",
        "  hashmap = {'Sleep stage W': 0, \n",
        "             'Sleep stage 1': 1, \n",
        "             'Sleep stage 2': 2, \n",
        "             'Sleep stage 3': 3, \n",
        "             'Sleep stage 4': 3, \n",
        "             'Sleep stage R': 4}\n",
        "  stage_map = {}\n",
        "  for stage in stages:\n",
        "    if stage in hashmap.keys():\n",
        "      stage_map[stage] = hashmap[stage]\n",
        "  return stage_map"
      ]
    },
    {
      "cell_type": "code",
      "execution_count": null,
      "metadata": {
        "id": "ziVgIDufJG8w"
      },
      "outputs": [],
      "source": [
        "files_psg = glob.glob(os.path.join(path_telemetry, \"*PSG.edf\"))\n",
        "files_psg = np.array(sorted(files_psg))\n",
        "\n",
        "channels = [\"EEG Fpz-Cz\", \"EEG Pz-Oz\", \"EOG horizontal\"]"
      ]
    },
    {
      "cell_type": "code",
      "execution_count": null,
      "metadata": {
        "id": "cZbwHfbwJM41"
      },
      "outputs": [],
      "source": [
        "def make_epochs_df(f_num):\n",
        "  \n",
        "  psg_fname = files_psg[f_num]\n",
        "\n",
        "  with mne.use_log_level(verbose=False):\n",
        "    raw = mne.io.read_raw_edf(psg_fname, stim_channel='Event marker', misc=['Temp rectal'], verbose=False)\n",
        "    raw_df = raw.to_data_frame()\n",
        "    annot = mne.read_annotations(glob.glob(path_telemetry + psg_fname[-16:-9] + '*' + 'Hypnogram.edf')[0])\n",
        "    raw.set_annotations(annot, emit_warning=False, verbose=False)\n",
        "    df = raw.annotations.to_data_frame()\n",
        "\n",
        "    stage_map = make_stage_map(df.description.unique().tolist())\n",
        "\n",
        "    last_w_idx = -1 if annot.to_data_frame().iloc[-1].description[-1] == 'W' else -2\n",
        "    annot.crop(annot[1]['onset'] - 10 * 60, annot[last_w_idx]['onset'] + 10 * 60, verbose=False)\n",
        "    raw.set_annotations(annot, emit_warning=False, verbose=False)\n",
        "\n",
        "    events_train, _ = mne.events_from_annotations(raw, event_id=stage_map, chunk_duration=30, verbose=False)\n",
        "\n",
        "    tmax = 30. - 1. / raw.info['sfreq']\n",
        "    epochs_train = mne.Epochs(raw=raw, events=events_train, event_id=stage_map, tmin=0., tmax=tmax, baseline=None, verbose=False)\n",
        "    epochs_df = epochs_train.to_data_frame().drop(columns=['Marker'])\n",
        "    epochs_df['patient'] = psg_fname[-16:-8]\n",
        "\n",
        "    epochs_df = epochs_df.reset_index().rename(columns={\"index\":\"timestep\"})\n",
        "\n",
        "    labels = epochs_df[[\"patient\", \"timestep\", \"time\", \"condition\"]]\n",
        "    data = epochs_df[[\"patient\", \"timestep\", \"time\", \"EEG Fpz-Cz\", \"EEG Pz-Oz\", \"EOG horizontal\", \"EMG submental\"]]\n",
        "\n",
        "  return data, labels"
      ]
    },
    {
      "cell_type": "code",
      "execution_count": null,
      "metadata": {
        "id": "pDh9EiQQXS_h"
      },
      "outputs": [],
      "source": [
        "def optimize_dtypes(df):\n",
        "    ints = df.select_dtypes(include=['int64', 'int32']).columns.tolist()\n",
        "    floats = df.select_dtypes(include=['float64', 'float32']).columns.tolist()\n",
        "    df[ints] = df[ints].apply(pd.to_numeric, downcast='integer')\n",
        "    df[floats] = df[floats].apply(pd.to_numeric, downcast='float')\n",
        "    \n",
        "    return df"
      ]
    },
    {
      "cell_type": "code",
      "execution_count": null,
      "metadata": {
        "id": "_rgzPVbEXJtM"
      },
      "outputs": [],
      "source": [
        "df_full_data = pd.DataFrame()\n",
        "df_full_labels = pd.DataFrame()\n",
        "for i in range(len(files_psg)):\n",
        "  df_data, df_labels = make_epochs_df(i)\n",
        "  df_data = optimize_dtypes(df_data)\n",
        "  \n",
        "  df_full_data = pd.concat([df_full_data, df_data])\n",
        "  df_full_labels = pd.concat([df_full_labels, df_labels])"
      ]
    },
    {
      "cell_type": "code",
      "execution_count": null,
      "metadata": {
        "id": "SRo2a6EgfpSP"
      },
      "outputs": [],
      "source": [
        "df_full_data.to_csv(\"/content/drive/MyDrive/BU Projects/CS777/EEG_Project/telemetry/telemetry_data_full.csv\", index=False)"
      ]
    },
    {
      "cell_type": "code",
      "execution_count": null,
      "metadata": {
        "id": "HjnGzq_nnu3K"
      },
      "outputs": [],
      "source": [
        "df_full_labels.to_csv(\"/content/drive/MyDrive/BU Projects/CS777/EEG_Project/telemetry/telemetry_label_full.csv\", index=False)"
      ]
    },
    {
      "cell_type": "code",
      "execution_count": null,
      "metadata": {
        "id": "kL9dBcN9g2n7"
      },
      "outputs": [],
      "source": [
        "from google.colab import auth\n",
        "auth.authenticate_user()"
      ]
    },
    {
      "cell_type": "code",
      "execution_count": null,
      "metadata": {
        "colab": {
          "base_uri": "https://localhost:8080/"
        },
        "id": "Pg_4f6Jxg7Rc",
        "outputId": "28bcda90-9262-4150-a970-fcf8b141cad4"
      },
      "outputs": [
        {
          "name": "stdout",
          "output_type": "stream",
          "text": [
            "Copying file:///content/drive/MyDrive/BU Projects/CS777/EEG_Project/telemetry/telemetry_data_full.csv [Content-Type=text/csv]...\n",
            "==> NOTE: You are uploading one or more large file(s), which would run\n",
            "significantly faster if you enable parallel composite uploads. This\n",
            "feature can be enabled by editing the\n",
            "\"parallel_composite_upload_threshold\" value in your .boto\n",
            "configuration file. However, note that if you do this large files will\n",
            "be uploaded as `composite objects\n",
            "<https://cloud.google.com/storage/docs/composite-objects>`_,which\n",
            "means that any user who downloads such objects will need to have a\n",
            "compiled crcmod installed (see \"gsutil help crcmod\"). This is because\n",
            "without a compiled crcmod, computing checksums on composite objects is\n",
            "so slow that gsutil disables downloads of composite objects.\n",
            "\n",
            "-\n",
            "Operation completed over 1 objects/7.4 GiB.                                      \n"
          ]
        }
      ],
      "source": [
        "!gsutil -m cp -r /content/drive/MyDrive/BU\\ Projects/CS777/EEG_Project/telemetry/telemetry_data_full.csv gs://bu-cs777-rj/term-project-sleep/data/"
      ]
    },
    {
      "cell_type": "code",
      "execution_count": null,
      "metadata": {
        "colab": {
          "base_uri": "https://localhost:8080/"
        },
        "id": "xKcVU8HWnxrq",
        "outputId": "a90b8041-34ba-4cf0-e645-9351b7432714"
      },
      "outputs": [
        {
          "name": "stdout",
          "output_type": "stream",
          "text": [
            "Copying file:///content/drive/MyDrive/BU Projects/CS777/EEG_Project/telemetry/telemetry_label_full.csv [Content-Type=text/csv]...\n",
            "/ [0/1 files][    0.0 B/  4.2 GiB]   0% Done                                    \r==> NOTE: You are uploading one or more large file(s), which would run\n",
            "significantly faster if you enable parallel composite uploads. This\n",
            "feature can be enabled by editing the\n",
            "\"parallel_composite_upload_threshold\" value in your .boto\n",
            "configuration file. However, note that if you do this large files will\n",
            "be uploaded as `composite objects\n",
            "<https://cloud.google.com/storage/docs/composite-objects>`_,which\n",
            "means that any user who downloads such objects will need to have a\n",
            "compiled crcmod installed (see \"gsutil help crcmod\"). This is because\n",
            "without a compiled crcmod, computing checksums on composite objects is\n",
            "so slow that gsutil disables downloads of composite objects.\n",
            "\n",
            "/ [1/1 files][  4.2 GiB/  4.2 GiB] 100% Done  83.3 MiB/s ETA 00:00:00           \n",
            "Operation completed over 1 objects/4.2 GiB.                                      \n"
          ]
        }
      ],
      "source": [
        "!gsutil -m cp -r /content/drive/MyDrive/BU\\ Projects/CS777/EEG_Project/telemetry/telemetry_label_full.csv gs://bu-cs777-rj/term-project-sleep/data/"
      ]
    }
  ],
  "metadata": {
    "colab": {
      "machine_shape": "hm",
      "provenance": []
    },
    "gpuClass": "standard",
    "kernelspec": {
      "display_name": "Python 3.9.11 ('tf-gpu')",
      "language": "python",
      "name": "python3"
    },
    "language_info": {
      "name": "python",
      "version": "3.9.11"
    },
    "vscode": {
      "interpreter": {
        "hash": "00c9e76fdf09f222f1a86fcd0002e0ae7b54afdc83ba9efbd710cd21bc35768b"
      }
    }
  },
  "nbformat": 4,
  "nbformat_minor": 0
}
